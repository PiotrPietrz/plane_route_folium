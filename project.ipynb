{
 "cells": [
  {
   "cell_type": "markdown",
   "id": "b9a32603-eaf9-4196-9248-67fee3ca70ee",
   "metadata": {},
   "source": [
    "The dataset comes from a RC plane that registered its route. The aim is to create its route and plot it\n",
    "on the map. For that, we will use ```folium```. The dataset has a lot of information, however, we're going\n",
    "to use only GPS coordinates. The reason for multiple GPS columns is that the computer treated each sensor separately, hence\n",
    "I calculated the average of lat & lon."
   ]
  },
  {
   "cell_type": "code",
   "execution_count": 1,
   "id": "511349d1-e0c5-4f54-a5b5-cf7aceea9908",
   "metadata": {},
   "outputs": [],
   "source": [
    "import pandas as pd\n",
    "import re\n",
    "import folium\n",
    "import time"
   ]
  },
  {
   "cell_type": "code",
   "execution_count": 2,
   "id": "e0d498e9-5ec1-4ecd-81f7-66dd931c318a",
   "metadata": {},
   "outputs": [],
   "source": [
    "# read in the df\n",
    "df = pd.read_csv('logs.csv')"
   ]
  },
  {
   "cell_type": "code",
   "execution_count": 3,
   "id": "2758e2ff-98a9-4303-b94b-df157aa95e3d",
   "metadata": {},
   "outputs": [
    {
     "data": {
      "text/plain": [
       "(1027, 51)"
      ]
     },
     "execution_count": 3,
     "metadata": {},
     "output_type": "execute_result"
    }
   ],
   "source": [
    "df.shape"
   ]
  },
  {
   "cell_type": "code",
   "execution_count": 4,
   "id": "bd30ec1d-54f3-4eed-a446-cd25880a37dc",
   "metadata": {},
   "outputs": [
    {
     "data": {
      "text/plain": [
       "['GPS', 'GPS.1', 'GPS.2', 'GPS.3']"
      ]
     },
     "execution_count": 4,
     "metadata": {},
     "output_type": "execute_result"
    }
   ],
   "source": [
    "# there are a few columns with coordinates\n",
    "gps = list(filter(lambda x: re.match('GPS*', x), list(df.columns)))\n",
    "gps"
   ]
  },
  {
   "cell_type": "code",
   "execution_count": 5,
   "id": "8975c2d0-360a-4874-bf20-297291f8d052",
   "metadata": {},
   "outputs": [],
   "source": [
    "# the chunk that will be needed\n",
    "d = df[['Time', 'GPS', 'GPS.1', 'GPS.2', 'GPS.3']]"
   ]
  },
  {
   "cell_type": "code",
   "execution_count": 6,
   "id": "75cb70a5-1228-47f0-9388-59112e373ff1",
   "metadata": {},
   "outputs": [],
   "source": [
    "d = d.rename(columns={\n",
    "    'Time': 'time', \n",
    "    'GPS': 'gps0', \n",
    "    'GPS.1': 'gps1', \n",
    "    'GPS.2': 'gps2', \n",
    "    'GPS.3': 'gps3'})"
   ]
  },
  {
   "cell_type": "code",
   "execution_count": 7,
   "id": "86bb6110-8086-4e2c-ad8f-2b2a699a7382",
   "metadata": {},
   "outputs": [],
   "source": [
    "# splitting the GPS coordinates into lat, lon columns\n",
    "for col in d.columns.tolist()[1::]:\n",
    "    # getting the number\n",
    "    num = col[-1]\n",
    "    \n",
    "    lat = 'lat' + num\n",
    "    lon = 'lon' + num\n",
    "    d[[lat, lon]] = d[col].str.split(' ', expand=True)\n",
    "    "
   ]
  },
  {
   "cell_type": "code",
   "execution_count": 8,
   "id": "d4246ea5-f147-4374-8aae-e2238b03fcb4",
   "metadata": {},
   "outputs": [],
   "source": [
    "final = pd.DataFrame(\n",
    "    {'time': d['time'],\n",
    "     # the values have to be converted to float32\n",
    "     'lat': d[['lat0', 'lat1', 'lat3']].astype('float32').mean(axis=1),\n",
    "     'lon': d[['lon0', 'lon1', 'lon3']].astype('float32').mean(axis=1)\n",
    "    }\n",
    ")"
   ]
  },
  {
   "cell_type": "code",
   "execution_count": 9,
   "id": "f09259dc-986d-44af-9eda-e041aa6aefc8",
   "metadata": {},
   "outputs": [
    {
     "data": {
      "text/plain": [
       "time     object\n",
       "lat     float32\n",
       "lon     float32\n",
       "dtype: object"
      ]
     },
     "execution_count": 9,
     "metadata": {},
     "output_type": "execute_result"
    }
   ],
   "source": [
    "final.dtypes"
   ]
  },
  {
   "cell_type": "code",
   "execution_count": 10,
   "id": "5d99e1ad-3b12-4ed0-91bb-35a42a4502af",
   "metadata": {},
   "outputs": [],
   "source": [
    "# removing miliseconds from time columns\n",
    "final['time'] = final['time'].str.split('.', expand=True)[0]"
   ]
  },
  {
   "cell_type": "code",
   "execution_count": 11,
   "id": "ae377527-4463-430e-a6ce-3c310278c45c",
   "metadata": {},
   "outputs": [],
   "source": [
    "final.drop_duplicates(inplace=True)"
   ]
  },
  {
   "cell_type": "code",
   "execution_count": 12,
   "id": "fd1954eb-c484-4376-9f5a-7c025eb4a098",
   "metadata": {},
   "outputs": [],
   "source": [
    "lats = final['lat']\n",
    "lons = final['lon']"
   ]
  },
  {
   "cell_type": "code",
   "execution_count": 13,
   "id": "cae2f6ba-129d-412e-91f7-39fe68011f20",
   "metadata": {},
   "outputs": [],
   "source": [
    "# creating a folium map\n",
    "m = folium.Map(location=[lats.mean(axis=0), lons.mean(axis=0)], zoom_start=16)"
   ]
  },
  {
   "cell_type": "code",
   "execution_count": 14,
   "id": "0ff87ef6-884e-493d-980a-d3140112bcfd",
   "metadata": {},
   "outputs": [
    {
     "data": {
      "text/plain": [
       "<folium.vector_layers.PolyLine at 0x7fa50e2ce580>"
      ]
     },
     "execution_count": 14,
     "metadata": {},
     "output_type": "execute_result"
    }
   ],
   "source": [
    "# creating a route out of the coordinates\n",
    "folium.PolyLine(final[['lat', 'lon']],\n",
    "                weight=5,\n",
    "                opacity=0.8).add_to(m)"
   ]
  },
  {
   "cell_type": "code",
   "execution_count": 15,
   "id": "0c2db701-9be1-451e-9760-f92d56daa0de",
   "metadata": {},
   "outputs": [
    {
     "data": {
      "text/plain": [
       "<folium.map.Marker at 0x7fa50e2ce1c0>"
      ]
     },
     "execution_count": 15,
     "metadata": {},
     "output_type": "execute_result"
    }
   ],
   "source": [
    "# Marking the start of the flight\n",
    "folium.Marker(location=[final['lat'][0], final['lon'][0]], popup='Start').add_to(m)"
   ]
  },
  {
   "cell_type": "code",
   "execution_count": 16,
   "id": "83dfff41-d6fa-4e6d-b3f0-1fe0fd5598ce",
   "metadata": {},
   "outputs": [],
   "source": [
    "m.save('route.html')"
   ]
  }
 ],
 "metadata": {
  "kernelspec": {
   "display_name": "Python 3 (ipykernel)",
   "language": "python",
   "name": "python3"
  },
  "language_info": {
   "codemirror_mode": {
    "name": "ipython",
    "version": 3
   },
   "file_extension": ".py",
   "mimetype": "text/x-python",
   "name": "python",
   "nbconvert_exporter": "python",
   "pygments_lexer": "ipython3",
   "version": "3.8.12"
  }
 },
 "nbformat": 4,
 "nbformat_minor": 5
}
